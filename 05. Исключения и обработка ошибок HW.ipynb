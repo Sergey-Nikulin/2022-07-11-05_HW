{
 "cells": [
  {
   "cell_type": "markdown",
   "id": "c41ab844",
   "metadata": {},
   "source": [
    "#### Задание 1\n",
    "Печатные газеты использовали свой формат дат для каждого выпуска. Для каждой газеты из списка напишите формат указанной даты для перевода в объект datetime:\n",
    "The Moscow Times - Wednesday, October 2, 2002\n",
    "The Guardian - Friday, 11.10.13\n",
    "Daily News - Thursday, 18 August 1977\n"
   ]
  },
  {
   "cell_type": "code",
   "execution_count": 1,
   "id": "6b2a2b36",
   "metadata": {},
   "outputs": [],
   "source": [
    "TMT = 'Wednesday, October 2, 2002'\n",
    "TG = 'Friday, 11.10.13'\n",
    "DN = 'Thursday, 18 August 1977'"
   ]
  },
  {
   "cell_type": "code",
   "execution_count": 17,
   "id": "db3635ed",
   "metadata": {},
   "outputs": [],
   "source": [
    "from datetime import datetime"
   ]
  },
  {
   "cell_type": "code",
   "execution_count": 3,
   "id": "9a2cf70f",
   "metadata": {},
   "outputs": [
    {
     "data": {
      "text/plain": [
       "datetime.datetime(2002, 10, 2, 0, 0)"
      ]
     },
     "execution_count": 3,
     "metadata": {},
     "output_type": "execute_result"
    }
   ],
   "source": [
    "datetime.strptime(TMT, '%A, %B %d, %Y')"
   ]
  },
  {
   "cell_type": "code",
   "execution_count": 4,
   "id": "cb54d37a",
   "metadata": {},
   "outputs": [
    {
     "data": {
      "text/plain": [
       "datetime.datetime(2013, 10, 11, 0, 0)"
      ]
     },
     "execution_count": 4,
     "metadata": {},
     "output_type": "execute_result"
    }
   ],
   "source": [
    "datetime.strptime(TG, '%A, %d.%m.%y')"
   ]
  },
  {
   "cell_type": "code",
   "execution_count": 5,
   "id": "e8a4d032",
   "metadata": {},
   "outputs": [
    {
     "data": {
      "text/plain": [
       "datetime.datetime(1977, 8, 18, 0, 0)"
      ]
     },
     "execution_count": 5,
     "metadata": {},
     "output_type": "execute_result"
    }
   ],
   "source": [
    "datetime.strptime(DN, '%A, %d %B %Y')"
   ]
  },
  {
   "cell_type": "markdown",
   "id": "c990908d",
   "metadata": {},
   "source": [
    "#### Задание 2\n",
    "Дан поток дат в формате YYYY-MM-DD, в которых встречаются некорректные значения:\n",
    "stream = [‘2018-04-02’, ‘2018-02-29’, ‘2018-19-02’]\n",
    "\n",
    "Напишите функцию, которая проверяет эти даты на корректность. Т. е. для каждой даты возвращает True (дата корректна) или False (некорректная дата)."
   ]
  },
  {
   "cell_type": "code",
   "execution_count": 33,
   "id": "a93e5fe6",
   "metadata": {},
   "outputs": [
    {
     "name": "stdout",
     "output_type": "stream",
     "text": [
      "2018-04-02 True\n",
      "2018-02-29 False\n",
      "2018-19-02 False\n"
     ]
    }
   ],
   "source": [
    "def check_d(*stream):\n",
    "    for d in stream:\n",
    "        try:\n",
    "            datetime.strptime(d, '%Y-%m-%d')\n",
    "            print(d, True)\n",
    "        except:\n",
    "            print(d, False)\n",
    "            pass\n",
    "check_d('2018-04-02', '2018-02-29', '2018-19-02')"
   ]
  },
  {
   "cell_type": "code",
   "execution_count": null,
   "id": "bd145a46",
   "metadata": {},
   "outputs": [],
   "source": []
  },
  {
   "cell_type": "markdown",
   "id": "bbf14942",
   "metadata": {},
   "source": [
    "#### Задание 3\n",
    "Напишите функцию date_range, которая возвращает список дат за период от start_date до end_date. Даты должны вводиться в формате YYYY-MM-DD. В случае неверного формата или при start_date > end_date должен возвращаться пустой список."
   ]
  },
  {
   "cell_type": "code",
   "execution_count": 31,
   "id": "bcf74e62",
   "metadata": {},
   "outputs": [
    {
     "name": "stdout",
     "output_type": "stream",
     "text": [
      "['2018-01-01', '2018-01-02', '2018-01-03', '2018-01-04', '2018-01-05', '2018-01-06', '2018-01-07']\n"
     ]
    }
   ],
   "source": [
    "def date_range(start_date, end_date):\n",
    "    e_list = []\n",
    "#     current_dt = start_date_dt\n",
    "    try:\n",
    "        start_date_dt = datetime.strptime(start_date, '%Y-%m-%d')\n",
    "        end_date_dt = datetime.strptime(end_date, '%Y-%m-%d')\n",
    "#         current_dt = start_date_dt\n",
    "    except ValueError:\n",
    "        return e_list\n",
    "        \n",
    "    while start_date_dt <= end_date_dt:\n",
    "        \n",
    "        e_list.append(start_date_dt.strftime('%Y-%m-%d'))\n",
    "        start_date_dt += timedelta(days=1)\n",
    "                      \n",
    "    return e_list\n",
    "    \n",
    "\n",
    "print(date_range('2018-01-01', '2018-01-07'))\n",
    "# print(date_range('2018-01-07', '2018-01-01'))\n",
    "# print(date_range('Friday, 11.10.13', '2013-10-15'), sep='\\n')"
   ]
  },
  {
   "cell_type": "code",
   "execution_count": null,
   "id": "d4801a1c",
   "metadata": {},
   "outputs": [],
   "source": []
  },
  {
   "cell_type": "code",
   "execution_count": null,
   "id": "062e5230",
   "metadata": {},
   "outputs": [],
   "source": []
  },
  {
   "cell_type": "code",
   "execution_count": null,
   "id": "e9dcf584",
   "metadata": {},
   "outputs": [],
   "source": []
  }
 ],
 "metadata": {
  "kernelspec": {
   "display_name": "Python 3 (ipykernel)",
   "language": "python",
   "name": "python3"
  },
  "language_info": {
   "codemirror_mode": {
    "name": "ipython",
    "version": 3
   },
   "file_extension": ".py",
   "mimetype": "text/x-python",
   "name": "python",
   "nbconvert_exporter": "python",
   "pygments_lexer": "ipython3",
   "version": "3.9.12"
  }
 },
 "nbformat": 4,
 "nbformat_minor": 5
}
